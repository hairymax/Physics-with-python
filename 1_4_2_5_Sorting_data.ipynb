{
  "nbformat": 4,
  "nbformat_minor": 0,
  "metadata": {
    "colab": {
      "name": "1.4.2.5 Sorting data.ipynb",
      "provenance": [],
      "collapsed_sections": []
    },
    "kernelspec": {
      "name": "python3",
      "display_name": "Python 3"
    },
    "language_info": {
      "name": "python"
    }
  },
  "cells": [
    {
      "cell_type": "code",
      "execution_count": null,
      "metadata": {
        "id": "nS8NaT5xg7qd"
      },
      "outputs": [],
      "source": [
        "import numpy as np"
      ]
    },
    {
      "cell_type": "markdown",
      "source": [
        "## Сортировка данных"
      ],
      "metadata": {
        "id": "Wt5Eh7MthPXT"
      }
    },
    {
      "cell_type": "markdown",
      "source": [
        "### Сортировка по оси:"
      ],
      "metadata": {
        "id": "Ikc3W9CJhSge"
      }
    },
    {
      "cell_type": "code",
      "source": [
        "a = np.array([[4, 3, 5], [1, 2, 1]])\n",
        "b = np.sort(a, axis=1)\n",
        "b"
      ],
      "metadata": {
        "colab": {
          "base_uri": "https://localhost:8080/"
        },
        "id": "w8wPx8YkhX3O",
        "outputId": "10fcb617-6708-4586-b491-19d81fe70f3d"
      },
      "execution_count": null,
      "outputs": [
        {
          "output_type": "execute_result",
          "data": {
            "text/plain": [
              "array([[3, 4, 5],\n",
              "       [1, 1, 2]])"
            ]
          },
          "metadata": {},
          "execution_count": 4
        }
      ]
    },
    {
      "cell_type": "markdown",
      "source": [
        "Заметка: Сортирует каждую строку отдельно!"
      ],
      "metadata": {
        "id": "eiwk1h2hhuOT"
      }
    },
    {
      "cell_type": "markdown",
      "source": [
        "### Сортировка на месте:"
      ],
      "metadata": {
        "id": "4Ghv6RCph4H6"
      }
    },
    {
      "cell_type": "code",
      "source": [
        "a.sort(axis=1)\n",
        "a"
      ],
      "metadata": {
        "colab": {
          "base_uri": "https://localhost:8080/"
        },
        "id": "YsHVsrMQhEjV",
        "outputId": "c39ed20c-13a6-4af3-b07c-527d6475d0cd"
      },
      "execution_count": null,
      "outputs": [
        {
          "output_type": "execute_result",
          "data": {
            "text/plain": [
              "array([[3, 4, 5],\n",
              "       [1, 1, 2]])"
            ]
          },
          "metadata": {},
          "execution_count": 5
        }
      ]
    },
    {
      "cell_type": "markdown",
      "source": [
        "### Сортировка с причудливой индексацией:"
      ],
      "metadata": {
        "id": "q33mzvdIiC6h"
      }
    },
    {
      "cell_type": "code",
      "source": [
        "a = np.array([4, 3, 1, 2])\n",
        "j = np.argsort(a)\n",
        "j"
      ],
      "metadata": {
        "colab": {
          "base_uri": "https://localhost:8080/"
        },
        "id": "GAqYP475iB7S",
        "outputId": "7729ba19-4ede-4e42-e34a-1c727dbf1d5a"
      },
      "execution_count": null,
      "outputs": [
        {
          "output_type": "execute_result",
          "data": {
            "text/plain": [
              "array([2, 3, 1, 0])"
            ]
          },
          "metadata": {},
          "execution_count": 6
        }
      ]
    },
    {
      "cell_type": "code",
      "source": [
        "a[j]"
      ],
      "metadata": {
        "colab": {
          "base_uri": "https://localhost:8080/"
        },
        "id": "K-5nIDEBiVpn",
        "outputId": "ac8472db-96e7-42a6-eeaf-57fa9e811ca8"
      },
      "execution_count": null,
      "outputs": [
        {
          "output_type": "execute_result",
          "data": {
            "text/plain": [
              "array([1, 2, 3, 4])"
            ]
          },
          "metadata": {},
          "execution_count": 7
        }
      ]
    },
    {
      "cell_type": "markdown",
      "source": [
        "### Нахождение минимума и максимума:"
      ],
      "metadata": {
        "id": "k9_DUd0QiXhh"
      }
    },
    {
      "cell_type": "code",
      "source": [
        "a = np.array([4, 3, 1, 2])\n",
        "j_max = np.argmax(a)\n",
        "j_min = np.argmin(a)\n",
        "j_max, j_min"
      ],
      "metadata": {
        "colab": {
          "base_uri": "https://localhost:8080/"
        },
        "id": "jxgHEykhiWkH",
        "outputId": "a414f7db-cb31-4eca-cf14-fef15512272a"
      },
      "execution_count": null,
      "outputs": [
        {
          "output_type": "execute_result",
          "data": {
            "text/plain": [
              "(0, 2)"
            ]
          },
          "metadata": {},
          "execution_count": 8
        }
      ]
    }
  ]
}